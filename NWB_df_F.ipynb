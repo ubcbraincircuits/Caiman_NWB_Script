{
 "cells": [
  {
   "cell_type": "markdown",
   "id": "5086e406",
   "metadata": {},
   "source": [
    "## dF/F Traces from Caiman Analysis\n",
    "\n",
    "This script enables you to plot the dF/F traces obtained from running caiman analyis with a .tif file and stores them in the NWB file created from Caiman analysis.\n",
    "\n",
    "reference in making this script: https://allensdk.readthedocs.io/en/v2.2.0/_modules/allensdk/brain_observatory/nwb.html "
   ]
  },
  {
   "cell_type": "markdown",
   "id": "fe5c25ca",
   "metadata": {},
   "source": [
    "The first step is to load and read in the NWB file created from running the caiman analysis as well as the stored array of dF/F values."
   ]
  },
  {
   "cell_type": "code",
   "execution_count": null,
   "id": "9a6caaa2",
   "metadata": {},
   "outputs": [],
   "source": [
    "from pynwb import NWBHDF5IO\n",
    "from pynwb.ophys import DfOverF\n",
    "\n",
    "io = NWBHDF5IO(\"/Users/sayeholoumi/caiman_data/example_movies/m3_00002_estimates_cropped3v2.nwb\",\"r+\")"
   ]
  },
  {
   "cell_type": "code",
   "execution_count": null,
   "id": "d0f9c837",
   "metadata": {},
   "outputs": [],
   "source": [
    "nwb = io.read()"
   ]
  },
  {
   "cell_type": "code",
   "execution_count": null,
   "id": "be9ead88",
   "metadata": {},
   "outputs": [],
   "source": [
    "%store -r dFOverF_cropped3v2"
   ]
  },
  {
   "cell_type": "code",
   "execution_count": null,
   "id": "c4b2a43a",
   "metadata": {},
   "outputs": [],
   "source": [
    "dFOverF_cropped3v2.shape\n"
   ]
  },
  {
   "cell_type": "markdown",
   "id": "8959a14f",
   "metadata": {},
   "source": [
    "You can now plot the dF/F trace."
   ]
  },
  {
   "cell_type": "code",
   "execution_count": null,
   "id": "27f430c6",
   "metadata": {},
   "outputs": [],
   "source": [
    "import matplotlib.pyplot as plt\n",
    "plt.imshow(dFOverF_cropped3v2[:,0:40])\n",
    "plt.show()"
   ]
  },
  {
   "cell_type": "markdown",
   "id": "0be57001",
   "metadata": {},
   "source": [
    "The following code segment enables you to view the values of the numpy array."
   ]
  },
  {
   "cell_type": "code",
   "execution_count": null,
   "id": "7c7d831e",
   "metadata": {},
   "outputs": [],
   "source": [
    "import sys\n",
    "import numpy\n",
    "numpy.set_printoptions(threshold=sys.maxsize)\n",
    "print(dFOverF_cropped3v2[:,0:100])"
   ]
  },
  {
   "cell_type": "markdown",
   "id": "d6ab0e14",
   "metadata": {},
   "source": [
    "In order to write the dF/F values into the NWB file, it is important to create a new data interface within the NWB file."
   ]
  },
  {
   "cell_type": "code",
   "execution_count": null,
   "id": "2803b745",
   "metadata": {},
   "outputs": [],
   "source": [
    "dff_interface = DfOverF(name='dff')"
   ]
  },
  {
   "cell_type": "code",
   "execution_count": null,
   "id": "fe455b03",
   "metadata": {},
   "outputs": [],
   "source": [
    "nwb.processing['ophys'].add_data_interface(dff_interface)"
   ]
  },
  {
   "cell_type": "markdown",
   "id": "41dc6f9d",
   "metadata": {},
   "source": [
    "You can view the dataframe of the ROI IDs and their associated R, SNR, and CNN values by executing the code below.\n",
    "The CNN and SNR values match with the ROIs displayed when running Caiman on the tif file. Please that the last two are spatial backgrounds (neuropil) of the tif file."
   ]
  },
  {
   "cell_type": "code",
   "execution_count": null,
   "id": "58df41ec",
   "metadata": {},
   "outputs": [],
   "source": [
    "df=nwb.processing['ophys'].get_data_interface('ImageSegmentation').get_plane_segmentation().to_dataframe()"
   ]
  },
  {
   "cell_type": "code",
   "execution_count": null,
   "id": "82025a90",
   "metadata": {},
   "outputs": [],
   "source": [
    "print(df)"
   ]
  },
  {
   "cell_type": "markdown",
   "id": "29be39cf",
   "metadata": {},
   "source": [
    "The following line of code enables you to view the image mask of the neurons."
   ]
  },
  {
   "cell_type": "code",
   "execution_count": null,
   "id": "d9952b7f",
   "metadata": {},
   "outputs": [],
   "source": [
    "mask=df[\"image_mask\"][1]\n",
    "print(type(mask))\n",
    "print(mask.shape)\n",
    "plt.imshow(mask.T)\n",
    "plt.show()"
   ]
  },
  {
   "cell_type": "markdown",
   "id": "f0fb3021",
   "metadata": {},
   "source": [
    "The following code segment enables you to view the other contents of the processing module of the NWB file."
   ]
  },
  {
   "cell_type": "code",
   "execution_count": null,
   "id": "c1ab9925",
   "metadata": {},
   "outputs": [],
   "source": [
    "print(nwb.processing['ophys'].get_data_interface('ImageSegmentation').get_plane_segmentation())"
   ]
  },
  {
   "cell_type": "markdown",
   "id": "2b8751fa",
   "metadata": {},
   "source": [
    "The next code segments will write the dF/F values to their corresponding ROIs in the table."
   ]
  },
  {
   "cell_type": "code",
   "execution_count": null,
   "id": "fcb8b298",
   "metadata": {},
   "outputs": [],
   "source": [
    "rt_region = nwb.processing['ophys'].get_data_interface('ImageSegmentation').get_plane_segmentation().create_roi_table_region(\n",
    "    description='segmented cells with cell_specimen_ids',\n",
    ")\n",
    "print(rt_region.to_dataframe())"
   ]
  },
  {
   "cell_type": "code",
   "execution_count": null,
   "id": "6c96c676",
   "metadata": {},
   "outputs": [],
   "source": [
    "df_over_f = nwb.processing[\"ophys\"].data_interfaces[\"Fluorescence\"].roi_response_series[\"RoiResponseSeries\"]\n",
    "\n",
    "df_over_f_values = df_over_f.data[:]\n",
    "timestamps = df_over_f.timestamps[:]"
   ]
  },
  {
   "cell_type": "code",
   "execution_count": null,
   "id": "89a106c0",
   "metadata": {},
   "outputs": [],
   "source": [
    "dFF_series = dff_interface.create_roi_response_series(\n",
    "    name='df_over_f',\n",
    "    data=dFOverF_cropped3v2,\n",
    "    unit='NA',\n",
    "    rois=rt_region,\n",
    "    timestamps=timestamps,\n",
    ")"
   ]
  },
  {
   "cell_type": "markdown",
   "id": "31ee5c02",
   "metadata": {},
   "source": [
    "Now, you can write back the changes made to the nwbfile."
   ]
  },
  {
   "cell_type": "code",
   "execution_count": null,
   "id": "2555508b",
   "metadata": {},
   "outputs": [],
   "source": [
    "io.write(nwb)\n",
    "io.close()"
   ]
  }
 ],
 "metadata": {
  "kernelspec": {
   "display_name": "Python 3 (ipykernel)",
   "language": "python",
   "name": "python3"
  },
  "language_info": {
   "codemirror_mode": {
    "name": "ipython",
    "version": 3
   },
   "file_extension": ".py",
   "mimetype": "text/x-python",
   "name": "python",
   "nbconvert_exporter": "python",
   "pygments_lexer": "ipython3",
   "version": "3.9.10"
  }
 },
 "nbformat": 4,
 "nbformat_minor": 5
}
