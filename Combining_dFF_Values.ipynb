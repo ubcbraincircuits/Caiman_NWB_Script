{
 "cells": [
  {
   "cell_type": "markdown",
   "id": "c06523d3",
   "metadata": {},
   "source": [
    "# Pooling DFF Values Across Different Movies\n",
    "\n",
    "The intention of the following script is to be able to get dff values from nwb files (constructed with caiman) and to be able to graphically represent these results."
   ]
  },
  {
   "cell_type": "markdown",
   "id": "81813a54",
   "metadata": {},
   "source": [
    "The first step is to load in and read the NWB files with the Caiman estimates."
   ]
  },
  {
   "cell_type": "code",
   "execution_count": null,
   "id": "a9772b1e",
   "metadata": {},
   "outputs": [],
   "source": [
    "from pynwb import NWBHDF5IO\n",
    "from pynwb.ophys import DfOverF\n",
    "\n",
    "io1 = NWBHDF5IO(\"/Users/sayeholoumi/caiman_data/example_movies/m3_00002_estimates_cropped1.nwb\",\"r+\")\n",
    "io2 = NWBHDF5IO(\"/Users/sayeholoumi/caiman_data/example_movies/m3_00002_estimates_cropped2.nwb\",\"r+\")\n",
    "io3 = NWBHDF5IO(\"/Users/sayeholoumi/caiman_data/example_movies/m3_00002_estimates_cropped3v2.nwb\",\"r+\")"
   ]
  },
  {
   "cell_type": "code",
   "execution_count": null,
   "id": "276fc3c8",
   "metadata": {},
   "outputs": [],
   "source": [
    "nwb1 = io1.read()\n",
    "nwb2 = io2.read()\n",
    "nwb3 = io3.read()"
   ]
  },
  {
   "cell_type": "markdown",
   "id": "30000da0",
   "metadata": {},
   "source": [
    "Upon reading in the files, we can access the dff values which we previously wrote to the NWB files. Printing the shapes of the numpy arrays allows you to see the number of ROIs detected from each .tiff. Note that they all have 200 timestamps."
   ]
  },
  {
   "cell_type": "code",
   "execution_count": null,
   "id": "33bf7716",
   "metadata": {},
   "outputs": [],
   "source": [
    "dff1 = nwb1.processing['ophys'].get_data_interface('dff').get_roi_response_series().data\n",
    "dff2 = nwb2.processing['ophys'].get_data_interface('dff').get_roi_response_series().data\n",
    "dff3 = nwb3.processing['ophys'].get_data_interface('dff').get_roi_response_series().data\n",
    "print(dff1.shape)\n",
    "print(dff2.shape)\n",
    "print(dff3.shape)"
   ]
  },
  {
   "cell_type": "markdown",
   "id": "46584baf",
   "metadata": {},
   "source": [
    "In order to view the dff values for different tiff files, you can combine them all into a single array and plot them as demonstrated below. You can confirm that the all_dffs variable contains all the detected ROIs from each of the movie files."
   ]
  },
  {
   "cell_type": "code",
   "execution_count": null,
   "id": "6a80fe82",
   "metadata": {},
   "outputs": [],
   "source": [
    "import numpy as np\n",
    "\n",
    "all_dffs = np.concatenate([dff1, dff2, dff4])\n",
    "print(all_dffs.shape)\n",
    "print(dff1.shape[0]+dff2.shape[0]+dff3.shape[0])"
   ]
  },
  {
   "cell_type": "markdown",
   "id": "241957cc",
   "metadata": {},
   "source": [
    "The following line of code enables you to view the df/f traces of all ROIs detected."
   ]
  },
  {
   "cell_type": "code",
   "execution_count": null,
   "id": "a2f49100",
   "metadata": {},
   "outputs": [],
   "source": [
    "import matplotlib.pyplot as plt\n",
    "plt.imshow(all_dffs[:,:])\n",
    "plt.show()"
   ]
  },
  {
   "cell_type": "markdown",
   "id": "200404aa",
   "metadata": {},
   "source": [
    "Below is a code segment which allows you to plot the df/f values of the first ROI across the timestamps."
   ]
  },
  {
   "cell_type": "code",
   "execution_count": null,
   "id": "4abdb3df",
   "metadata": {},
   "outputs": [],
   "source": [
    "plt.plot(all_dffs[0,:])"
   ]
  }
 ],
 "metadata": {
  "kernelspec": {
   "display_name": "Python 3 (ipykernel)",
   "language": "python",
   "name": "python3"
  },
  "language_info": {
   "codemirror_mode": {
    "name": "ipython",
    "version": 3
   },
   "file_extension": ".py",
   "mimetype": "text/x-python",
   "name": "python",
   "nbconvert_exporter": "python",
   "pygments_lexer": "ipython3",
   "version": "3.9.10"
  }
 },
 "nbformat": 4,
 "nbformat_minor": 5
}
